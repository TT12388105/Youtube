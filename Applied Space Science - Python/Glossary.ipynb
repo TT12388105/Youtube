{
 "cells": [
  {
   "cell_type": "markdown",
   "metadata": {},
   "source": [
    "## Know space glossary"
   ]
  },
  {
   "cell_type": "code",
   "execution_count": 1,
   "metadata": {},
   "outputs": [],
   "source": [
    "# hubble api\n",
    "# url = 'http://hubblesite.org/api/v3/glossary/'"
   ]
  },
  {
   "cell_type": "code",
   "execution_count": 1,
   "metadata": {},
   "outputs": [],
   "source": [
    "# pip install requests\n",
    "import requests"
   ]
  },
  {
   "cell_type": "code",
   "execution_count": 2,
   "metadata": {},
   "outputs": [
    {
     "name": "stdout",
     "output_type": "stream",
     "text": [
      "{'definition': \"The third largest planet in the solar system and the seventh from the Sun. Uranus is 19 times the Earth's distance from the Sun and completes a circuit around the Sun in about 84 Earth years. This gaseous, giant, outer planet has a visible ring system and over 20 moons, the largest of which is Titania. Uranus is tipped on its side, with a rotation axis in nearly the same plane as its orbit.\"}\n"
     ]
    }
   ],
   "source": [
    "term = 'Uranus'\n",
    "url = 'http://hubblesite.org/api/v3/glossary/' + term\n",
    "r = requests.get(url)\n",
    "data = r.json()\n",
    "# if len(data) != 0:\n",
    "#     print(data['definition'])\n",
    "# else:\n",
    "#     print('No information on this term')"
   ]
  },
  {
   "cell_type": "code",
   "execution_count": null,
   "metadata": {},
   "outputs": [],
   "source": []
  }
 ],
 "metadata": {
  "kernelspec": {
   "display_name": "Python 3",
   "language": "python",
   "name": "python3"
  },
  "language_info": {
   "codemirror_mode": {
    "name": "ipython",
    "version": 3
   },
   "file_extension": ".py",
   "mimetype": "text/x-python",
   "name": "python",
   "nbconvert_exporter": "python",
   "pygments_lexer": "ipython3",
   "version": "3.8.1"
  }
 },
 "nbformat": 4,
 "nbformat_minor": 4
}
