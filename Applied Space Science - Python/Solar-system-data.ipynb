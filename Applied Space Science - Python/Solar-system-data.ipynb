{
 "cells": [
  {
   "cell_type": "code",
   "execution_count": 21,
   "metadata": {},
   "outputs": [],
   "source": [
    "# pip install requests\n",
    "\n",
    "import requests"
   ]
  },
  {
   "cell_type": "code",
   "execution_count": 79,
   "metadata": {},
   "outputs": [],
   "source": [
    "id = 'mars'"
   ]
  },
  {
   "cell_type": "code",
   "execution_count": 80,
   "metadata": {},
   "outputs": [
    {
     "data": {
      "text/plain": [
       "'https://api.le-systeme-solaire.net/rest/bodies/mars'"
      ]
     },
     "execution_count": 80,
     "metadata": {},
     "output_type": "execute_result"
    }
   ],
   "source": [
    "url = f'https://api.le-systeme-solaire.net/rest/bodies/{id}'\n",
    "url"
   ]
  },
  {
   "cell_type": "code",
   "execution_count": 81,
   "metadata": {},
   "outputs": [],
   "source": [
    "r = requests.get(url)\n",
    "data = r.json()"
   ]
  },
  {
   "cell_type": "code",
   "execution_count": 82,
   "metadata": {},
   "outputs": [
    {
     "data": {
      "text/plain": [
       "{'id': 'mars',\n",
       " 'name': 'Mars',\n",
       " 'englishName': 'Mars',\n",
       " 'isPlanet': True,\n",
       " 'moons': [{'moon': 'Phobos',\n",
       "   'rel': 'https://api.le-systeme-solaire.net/rest/bodies/phobos'},\n",
       "  {'moon': 'Deïmos',\n",
       "   'rel': 'https://api.le-systeme-solaire.net/rest/bodies/deimos'}],\n",
       " 'semimajorAxis': 227943824,\n",
       " 'perihelion': 206700000,\n",
       " 'aphelion': 249200000,\n",
       " 'eccentricity': 0.0935,\n",
       " 'inclination': 1.85,\n",
       " 'mass': {'massValue': 6.41712, 'massExponent': 23},\n",
       " 'vol': {'volValue': 1.6318, 'volExponent': 11},\n",
       " 'density': 3.9341,\n",
       " 'gravity': 3.71,\n",
       " 'escape': 5030.0,\n",
       " 'meanRadius': 3389.5,\n",
       " 'equaRadius': 3396.19,\n",
       " 'polarRadius': 3376.2,\n",
       " 'flattening': 0.00589,\n",
       " 'dimension': '',\n",
       " 'sideralOrbit': 686.98,\n",
       " 'sideralRotation': 24.6229,\n",
       " 'aroundPlanet': None,\n",
       " 'discoveredBy': '',\n",
       " 'discoveryDate': '',\n",
       " 'alternativeName': ''}"
      ]
     },
     "execution_count": 82,
     "metadata": {},
     "output_type": "execute_result"
    }
   ],
   "source": [
    "data"
   ]
  },
  {
   "cell_type": "code",
   "execution_count": 83,
   "metadata": {},
   "outputs": [
    {
     "name": "stdout",
     "output_type": "stream",
     "text": [
      "2\n",
      "['Phobos', 'Deïmos']\n"
     ]
    }
   ],
   "source": [
    "# moons\n",
    "\n",
    "if data['moons'] != None:\n",
    "    all_moons = []\n",
    "    \n",
    "    print(len(data['moons']))\n",
    "    for i in data['moons']:\n",
    "        all_moons.append(i['moon'])\n",
    "    print(all_moons)\n",
    "else:\n",
    "    print('No moons')"
   ]
  },
  {
   "cell_type": "code",
   "execution_count": 84,
   "metadata": {},
   "outputs": [
    {
     "data": {
      "text/plain": [
       "227943824"
      ]
     },
     "execution_count": 84,
     "metadata": {},
     "output_type": "execute_result"
    }
   ],
   "source": [
    "# semiMajoraxis (in kilometers)\n",
    "\n",
    "data['semimajorAxis']"
   ]
  },
  {
   "cell_type": "code",
   "execution_count": 85,
   "metadata": {},
   "outputs": [
    {
     "data": {
      "text/plain": [
       "206700000"
      ]
     },
     "execution_count": 85,
     "metadata": {},
     "output_type": "execute_result"
    }
   ],
   "source": [
    "# perihelion (in kilometers)\n",
    "\n",
    "data['perihelion']"
   ]
  },
  {
   "cell_type": "code",
   "execution_count": 86,
   "metadata": {},
   "outputs": [
    {
     "data": {
      "text/plain": [
       "249200000"
      ]
     },
     "execution_count": 86,
     "metadata": {},
     "output_type": "execute_result"
    }
   ],
   "source": [
    "# aphelion (in kilometers)\n",
    "\n",
    "data['aphelion']"
   ]
  },
  {
   "cell_type": "code",
   "execution_count": 87,
   "metadata": {},
   "outputs": [
    {
     "data": {
      "text/plain": [
       "{'massValue': 6.41712, 'massExponent': 23}"
      ]
     },
     "execution_count": 87,
     "metadata": {},
     "output_type": "execute_result"
    }
   ],
   "source": [
    "# mass in kg\n",
    "\n",
    "data['mass']"
   ]
  },
  {
   "cell_type": "code",
   "execution_count": 88,
   "metadata": {},
   "outputs": [
    {
     "data": {
      "text/plain": [
       "{'volValue': 1.6318, 'volExponent': 11}"
      ]
     },
     "execution_count": 88,
     "metadata": {},
     "output_type": "execute_result"
    }
   ],
   "source": [
    "# volume (in kg/km**3)\n",
    "\n",
    "data['vol']"
   ]
  },
  {
   "cell_type": "code",
   "execution_count": 89,
   "metadata": {},
   "outputs": [
    {
     "data": {
      "text/plain": [
       "3.9341"
      ]
     },
     "execution_count": 89,
     "metadata": {},
     "output_type": "execute_result"
    }
   ],
   "source": [
    "# density (in g.cm3)\n",
    "\n",
    "data['density']"
   ]
  },
  {
   "cell_type": "code",
   "execution_count": 90,
   "metadata": {},
   "outputs": [
    {
     "data": {
      "text/plain": [
       "3.71"
      ]
     },
     "execution_count": 90,
     "metadata": {},
     "output_type": "execute_result"
    }
   ],
   "source": [
    "# gravity (in m.s-2)\n",
    "\n",
    "data['gravity']"
   ]
  },
  {
   "cell_type": "code",
   "execution_count": 91,
   "metadata": {},
   "outputs": [
    {
     "data": {
      "text/plain": [
       "5030.0"
      ]
     },
     "execution_count": 91,
     "metadata": {},
     "output_type": "execute_result"
    }
   ],
   "source": [
    "# escape velocity (in m.s-1)\n",
    "\n",
    "data['escape']"
   ]
  },
  {
   "cell_type": "code",
   "execution_count": 92,
   "metadata": {},
   "outputs": [
    {
     "data": {
      "text/plain": [
       "3389.5"
      ]
     },
     "execution_count": 92,
     "metadata": {},
     "output_type": "execute_result"
    }
   ],
   "source": [
    "# radius in km\n",
    "\n",
    "mean = data['meanRadius']\n",
    "equa = data['equaRadius']\n",
    "polar = data['polarRadius']\n",
    "\n",
    "mean"
   ]
  },
  {
   "cell_type": "code",
   "execution_count": 93,
   "metadata": {},
   "outputs": [
    {
     "data": {
      "text/plain": [
       "24.6229"
      ]
     },
     "execution_count": 93,
     "metadata": {},
     "output_type": "execute_result"
    }
   ],
   "source": [
    "# rotation and revolution\n",
    "\n",
    "around = data['aroundPlanet']\n",
    "rot = data['sideralRotation']\n",
    "rev = data['sideralOrbit']\n",
    "rot"
   ]
  },
  {
   "cell_type": "code",
   "execution_count": 94,
   "metadata": {},
   "outputs": [
    {
     "name": "stdout",
     "output_type": "stream",
     "text": [
      "\n",
      "\n"
     ]
    }
   ],
   "source": [
    "# discovery\n",
    "\n",
    "disBy = data['discoveredBy']\n",
    "date = data['discoveryDate']\n",
    "print(disBy)\n",
    "print(date)"
   ]
  },
  {
   "cell_type": "code",
   "execution_count": null,
   "metadata": {},
   "outputs": [],
   "source": []
  }
 ],
 "metadata": {
  "kernelspec": {
   "display_name": "Python 3",
   "language": "python",
   "name": "python3"
  },
  "language_info": {
   "codemirror_mode": {
    "name": "ipython",
    "version": 3
   },
   "file_extension": ".py",
   "mimetype": "text/x-python",
   "name": "python",
   "nbconvert_exporter": "python",
   "pygments_lexer": "ipython3",
   "version": "3.8.1"
  }
 },
 "nbformat": 4,
 "nbformat_minor": 4
}
